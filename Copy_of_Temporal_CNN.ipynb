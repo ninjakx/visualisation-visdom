{
  "nbformat": 4,
  "nbformat_minor": 0,
  "metadata": {
    "colab": {
      "name": "Copy of Temporal_CNN.ipynb",
      "version": "0.3.2",
      "provenance": [],
      "collapsed_sections": [],
      "include_colab_link": true
    },
    "kernelspec": {
      "name": "python3",
      "display_name": "Python 3"
    },
    "accelerator": "GPU"
  },
  "cells": [
    {
      "cell_type": "markdown",
      "metadata": {
        "id": "view-in-github",
        "colab_type": "text"
      },
      "source": [
        "[View in Colaboratory](https://colab.research.google.com/github/ninjakx/visualisation-visdom/blob/master/Copy_of_Temporal_CNN.ipynb)"
      ]
    },
    {
      "metadata": {
        "id": "aUM0LGpl1suw",
        "colab_type": "text"
      },
      "cell_type": "markdown",
      "source": [
        "# **TO RUN  VISDOM ON GOOGLE COLAB FOLLOW THESE STEPS:**"
      ]
    },
    {
      "metadata": {
        "id": "e3-leJql3ru7",
        "colab_type": "text"
      },
      "cell_type": "markdown",
      "source": [
        "# Install Localtunnel"
      ]
    },
    {
      "metadata": {
        "id": "61LgD7HWccCw",
        "colab_type": "code",
        "colab": {
          "base_uri": "https://localhost:8080/",
          "height": 230
        },
        "outputId": "2d712f33-0f3b-4c7f-c5cf-55c33a16bb9b"
      },
      "cell_type": "code",
      "source": [
        "! npm install -g localtunnel"
      ],
      "execution_count": 4,
      "outputs": [
        {
          "output_type": "stream",
          "text": [
            "\u001b[K\u001b[?25h/tools/node/bin/lt -> /tools/node/lib/node_modules/localtunnel/bin/client\n",
            "+ localtunnel@1.9.1\n",
            "updated 1 package in 0.971s\n",
            "\n",
            "\u001b[33m\u001b[39m\n",
            "\u001b[33m   ╭─────────────────────────────────────╮\u001b[39m\n",
            "   \u001b[33m│\u001b[39m                                     \u001b[33m│\u001b[39m\n",
            "   \u001b[33m│\u001b[39m   Update available \u001b[2m5.7.1\u001b[22m\u001b[0m → \u001b[0m\u001b[32m6.4.1\u001b[39m    \u001b[33m│\u001b[39m\n",
            "   \u001b[33m│\u001b[39m     Run \u001b[36mnpm i -g npm\u001b[39m to update      \u001b[33m│\u001b[39m\n",
            "   \u001b[33m│\u001b[39m                                     \u001b[33m│\u001b[39m\n",
            "\u001b[33m   ╰─────────────────────────────────────╯\u001b[39m\n",
            "\u001b[33m\u001b[39m\n"
          ],
          "name": "stdout"
        }
      ]
    },
    {
      "metadata": {
        "id": "pKAHaCdb30RB",
        "colab_type": "text"
      },
      "cell_type": "markdown",
      "source": [
        "# **Install and Start Visdom Server**"
      ]
    },
    {
      "metadata": {
        "id": "IRJ_kC9HbqSP",
        "colab_type": "code",
        "colab": {}
      },
      "cell_type": "code",
      "source": [
        "get_ipython().system_raw('/usr/bin/python2 -m pip install visdom')\n",
        "get_ipython().system_raw('/usr/bin/python2 -m visdom.server -port 6001 >> visdomlog.txt 2>&1 &')\n",
        "get_ipython().system_raw('lt --port 6001 >> url.txt 2>&1 &')\n"
      ],
      "execution_count": 0,
      "outputs": []
    },
    {
      "metadata": {
        "id": "PPfslCO-4qtS",
        "colab_type": "text"
      },
      "cell_type": "markdown",
      "source": [
        "# **Check the Status of Application**"
      ]
    },
    {
      "metadata": {
        "id": "wbBqnQu2-69w",
        "colab_type": "code",
        "colab": {
          "base_uri": "https://localhost:8080/",
          "height": 34
        },
        "outputId": "7bb304e5-32ca-44d5-959f-7ec01b661944"
      },
      "cell_type": "code",
      "source": [
        "! cat visdomlog.txt"
      ],
      "execution_count": 24,
      "outputs": [
        {
          "output_type": "stream",
          "text": [
            "INFO:root:Application Started\n"
          ],
          "name": "stdout"
        }
      ]
    },
    {
      "metadata": {
        "id": "G6AfrTrF4yVM",
        "colab_type": "text"
      },
      "cell_type": "markdown",
      "source": [
        "# **Visit the contents of url.txt using http rather than https **"
      ]
    },
    {
      "metadata": {
        "id": "C4HMgU0tcMmn",
        "colab_type": "code",
        "colab": {
          "base_uri": "https://localhost:8080/",
          "height": 34
        },
        "outputId": "7526dde7-3e7b-4dcd-9f9f-064750e37a84"
      },
      "cell_type": "code",
      "source": [
        "! cat url.txt"
      ],
      "execution_count": 25,
      "outputs": [
        {
          "output_type": "stream",
          "text": [
            "your url is: https://tidy-mule-48.localtunnel.me\n"
          ],
          "name": "stdout"
        }
      ]
    },
    {
      "metadata": {
        "id": "5Ti8OBmv5bTM",
        "colab_type": "text"
      },
      "cell_type": "markdown",
      "source": [
        "## **INSTALL DEPENDENCIES**"
      ]
    },
    {
      "metadata": {
        "id": "qDTCER0qOl-5",
        "colab_type": "code",
        "colab": {}
      },
      "cell_type": "code",
      "source": [
        "!pip install visdom\n",
        "!pip install torch\n",
        "!pip install torchnet"
      ],
      "execution_count": 0,
      "outputs": []
    },
    {
      "metadata": {
        "id": "U3nEDls5fAxe",
        "colab_type": "text"
      },
      "cell_type": "markdown",
      "source": [
        "##   **UTILITY FUNCTION**\n",
        "\n",
        "(taken from the net)"
      ]
    },
    {
      "metadata": {
        "id": "EhQm-xsiz6sp",
        "colab_type": "code",
        "colab": {}
      },
      "cell_type": "code",
      "source": [
        "import visdom\n",
        "import time\n",
        "import numpy as np\n",
        "\n",
        "class Visualizer(object):\n",
        "    '''\n",
        "    orginal visdom API - self.vis.function\n",
        "    '''\n",
        "\n",
        "    def __init__(self, env='main', **kwargs):\n",
        "        self.vis = visdom.Visdom(port='6001')\n",
        "        \n",
        "        # save（’loss',23）\n",
        "        self.index = {} \n",
        "        self.log_text = ''\n",
        "    \n",
        "    def check_connection(self):\n",
        "        return self.vis.check_connection()\n",
        "\n",
        "    def plot(self, name, value,step=1,**kwargs):\n",
        "        '''\n",
        "        self.plot('loss',1.00)\n",
        "        '''\n",
        "        x = self.index.get(name, 0)\n",
        "        self.vis.line(Y=np.array([value]), X=np.array([x]),\n",
        "                      win=name,\n",
        "                      opts=dict(title=name),\n",
        "                      update=None if x == 0 else 'append',\n",
        "                      **kwargs\n",
        "                      )\n",
        "        self.index[name] = x + step\n",
        "        \n",
        "    def plot_all(self, dict, step=1):\n",
        "        '''\n",
        "        plot multiple graphs\n",
        "        @params d: dict (name,value) i.e. ('loss',0.11)\n",
        "        '''\n",
        "        for k, v in dict.items():\n",
        "            self.plot(k, v, step)\n",
        "            \n",
        "    def plot_combine(self, name, d, step=1):\n",
        "        #multiple plots in one single graph\n",
        "        x = self.index.get(name, 0)\n",
        "        X = []\n",
        "        Y = []\n",
        "        legend = []\n",
        "        for k, v in sorted(d.items()):\n",
        "            Y.append(v)\n",
        "            X.append(x)\n",
        "            legend.append(k)\n",
        "        Y = np.array([Y])\n",
        "        X = np.array([X])\n",
        "        self.vis.line(\n",
        "            Y=Y, \n",
        "            X=X,\n",
        "            win=name,\n",
        "            opts=dict(\n",
        "                title=name,\n",
        "                legend=legend\n",
        "            ),\n",
        "            update=None if x == 0 else 'append',\n",
        "        )\n",
        "        self.index[name] = x + step\n",
        "\n",
        "    def img(self, name, img_,**kwargs):\n",
        "        '''\n",
        "        self.img('input_img',t.Tensor(64,64))\n",
        "        self.img('input_imgs',t.Tensor(3,64,64))\n",
        "        self.img('input_imgs',t.Tensor(100,1,64,64))\n",
        "        self.img('input_imgs',t.Tensor(100,3,64,64),nrow=10)\n",
        "        ！！！don‘t ~~self.img('input_imgs',t.Tensor(100,64,64),nrow=10)~~！！！\n",
        "        '''\n",
        "        self.vis.images(img_.cpu().numpy(),\n",
        "                       win=name,\n",
        "                       opts=dict(title=name),\n",
        "                       **kwargs\n",
        "                       )\n",
        "                       \n",
        "\n",
        "    def plot_combine1(self,name,d,step=1):\n",
        "        #multiple plots in one single graph\n",
        "        x = self.index.get(name, 0)\n",
        "        X = []\n",
        "        Y = []\n",
        "        legend = []\n",
        "        for k, v in sorted(d.items()):\n",
        "\n",
        "            Y.append(v[0])\n",
        "            X.append(v[1])\n",
        "            legend.append(k)\n",
        "        Y = np.array([Y])\n",
        "        X = np.array([X])\n",
        "\n",
        "        self.vis.line(\n",
        "            Y=Y, \n",
        "            X=X,\n",
        "            win=name,\n",
        "            #env= 'main',\n",
        "            opts=dict(\n",
        "                title=name,\n",
        "                legend=legend\n",
        "            ),\n",
        "            update=None if x == 0 else 'append',\n",
        "        )\n",
        "        self.index[name] = x + step\n",
        "        \n",
        "\n",
        "\n",
        "        \n",
        "        \n",
        "    def img_all(self, d):\n",
        "        for k, v in d.iteritems():\n",
        "            self.img(k, v)\n",
        "\n",
        "\n",
        "    def log(self,info,name='log'):\n",
        "        '''\n",
        "        self.log({'loss':1,'lr':0.0001})\n",
        "        '''\n",
        "\n",
        "        self.log_text += ('[{time}] {info} <br>'.format(\n",
        "                            time=time.strftime('%m%d_%H%M%S'),\\\n",
        "                            info=info)) \n",
        "        self.vis.text(self.log_text,name)   \n",
        "\n",
        "    def __getattr__(self, name):\n",
        "        return getattr(self.vis, name)\n",
        "      "
      ],
      "execution_count": 0,
      "outputs": []
    },
    {
      "metadata": {
        "id": "jbaZAp8f0dFK",
        "colab_type": "code",
        "colab": {}
      },
      "cell_type": "code",
      "source": [
        "vis = Visualizer()"
      ],
      "execution_count": 0,
      "outputs": []
    },
    {
      "metadata": {
        "id": "LrkEWP-zXqpi",
        "colab_type": "code",
        "colab": {}
      },
      "cell_type": "code",
      "source": [
        "!pip install Pillow==4.0.0\n",
        "!pip install PIL\n",
        "!pip install image"
      ],
      "execution_count": 0,
      "outputs": []
    },
    {
      "metadata": {
        "id": "3HoPUkWWghSR",
        "colab_type": "text"
      },
      "cell_type": "markdown",
      "source": [
        "## ** PLOT IMAGE**"
      ]
    },
    {
      "metadata": {
        "id": "mHCeH1OqW_35",
        "colab_type": "code",
        "colab": {
          "base_uri": "https://localhost:8080/",
          "height": 34
        },
        "outputId": "9d7fb18f-5a58-4d50-e0a0-e3ebe1f82fd0"
      },
      "cell_type": "code",
      "source": [
        "img = np.random.rand(3, 512, 256)\n",
        "vis.images(img, win=\"IMG\", opts=dict(title=\"IMAGE\"))"
      ],
      "execution_count": 162,
      "outputs": [
        {
          "output_type": "execute_result",
          "data": {
            "text/plain": [
              "'IMG'"
            ]
          },
          "metadata": {
            "tags": []
          },
          "execution_count": 162
        }
      ]
    },
    {
      "metadata": {
        "id": "NpcPIc8Hg0QY",
        "colab_type": "text"
      },
      "cell_type": "markdown",
      "source": [
        "***OUTPUT***\n",
        "\n",
        "![Img](https://raw.githubusercontent.com/ninjakx/visualisation-visdom/master/Images/Img.PNG)"
      ]
    },
    {
      "metadata": {
        "id": "R1Nw9r_Fjt0u",
        "colab_type": "text"
      },
      "cell_type": "markdown",
      "source": [
        "## **PLOT CUSTOM LINES**"
      ]
    },
    {
      "metadata": {
        "id": "ZlwFfoISuLca",
        "colab_type": "code",
        "colab": {
          "base_uri": "https://localhost:8080/",
          "height": 34
        },
        "outputId": "e538c7f5-3d83-4981-b443-f3f5e4414955"
      },
      "cell_type": "code",
      "source": [
        "  X = [[] for i in range(7)]\n",
        "  Y = [[] for i in range(7)]\n",
        "  trace=[]\n",
        "  colors = [\"red\",\"blue\",\"yellow\",\"green\",\"orange\",\"violet\",\"brown\"]\n",
        "  symbols = [5, 1, 31, 104, 126, 21, 27]\n",
        "  m=[1,2,3,4,5,6,7]\n",
        "  n =[8,9,10,11,12,13,14]\n",
        "  \n",
        "  c = -1\n",
        "  for j in range(7):\n",
        "      c=c+1\n",
        "      X[j].append(m[c])\n",
        "      Y[j].append(n[c])\n",
        "      tr = dict(x=X[j], y=Y[j], marker={'color': colors[j], 'symbol': symbols[j], 'size': \"10\"},\n",
        "                          mode=\"markers+lines\",\n",
        "                         name='class-'+str(j), type=\"custom\")\n",
        "      trace.append(tr)\n",
        "  layout=dict(title=\"XY---Curve\", xaxis={'title':'X'}, yaxis={'title':'Y'})\n",
        "\n",
        "  vis._send({'data': trace, 'layout': layout, 'win': 'XYCURVE','update':'append'})\n"
      ],
      "execution_count": 32,
      "outputs": [
        {
          "output_type": "execute_result",
          "data": {
            "text/plain": [
              "'XYCURVE'"
            ]
          },
          "metadata": {
            "tags": []
          },
          "execution_count": 32
        }
      ]
    },
    {
      "metadata": {
        "id": "EdsLTUPskk7q",
        "colab_type": "text"
      },
      "cell_type": "markdown",
      "source": [
        "***OUTPUT***\n",
        "\n",
        "<img src=\"https://github.com/ninjakx/visualisation-visdom/raw/master/Images/trace_loop.PNG\" width=\"400\" height=\"400\">\n"
      ]
    },
    {
      "metadata": {
        "id": "BttYR025p1ct",
        "colab_type": "text"
      },
      "cell_type": "markdown",
      "source": [
        "## **PLOT CUSTOM LINES**"
      ]
    },
    {
      "metadata": {
        "id": "yTLUNesAiv1C",
        "colab_type": "code",
        "colab": {
          "base_uri": "https://localhost:8080/",
          "height": 34
        },
        "outputId": "d8b49bcf-5fc4-468c-8663-0c7823b48e89"
      },
      "cell_type": "code",
      "source": [
        "  trace1 = dict(x=[1,3,5,7], y=[1,3,5,7], marker={'color': 'red', 'symbol': 5, 'size': \"10\"},\n",
        "                          mode=\"markers+lines\",\n",
        "                         name='class-1', type=\"custom\")\n",
        "  \n",
        "  trace2 = dict(x=[2,4,6,8], y=[2,3,4,5], marker={'color': 'blue', 'symbol': 1, 'size': \"10\"},\n",
        "                          mode=\"markers+lines\", \n",
        "                         name='class-2', type=\"custom\")\n",
        "  \n",
        "  trace3 = dict(x=[1,2,3,4], y=[4,3,2,1], marker={'color': 'green', 'symbol': 31, 'size': \"10\"},\n",
        "                          mode=\"markers+lines\", \n",
        "                         name='class-3', type=\"custom\")\n",
        "  \n",
        "  trace4 = dict(x=[5,3,2,1], y=[1,2,3,6], marker={'color': 'orange', 'symbol': 104, 'size': \"10\"},\n",
        "                          mode=\"markers+lines\",\n",
        "                         name='class-4', type=\"custom\")\n",
        "  \n",
        "  trace5 = dict(x=[3,6,9,10], y=[3,2,1,0], marker={'color': 'violet', 'symbol': 126, 'size': \"10\"},\n",
        "                          mode=\"markers+lines\",\n",
        "                         name='class-5', type=\"custom\")\n",
        "  \n",
        "  trace6 = dict(x=[1,2,3,4], y=[1,4,7,8], marker={'color': 'brown', 'symbol': 21, 'size': \"10\"},\n",
        "                          mode=\"markers+lines\",\n",
        "                         name='class-6', type=\"custom\")\n",
        "  \n",
        "  trace7 = dict(x=[1,2,6,8], y=[1,4,3,7], marker={'color': 'yellow', 'symbol': 27, 'size': \"10\"},\n",
        "                          mode=\"markers+lines\",\n",
        "                         name='class-7', type=\"custom\")\n",
        "\n",
        "  layout=dict(title=\"XY---Curve\", xaxis={'title':'X'}, yaxis={'title':'Y'})\n",
        "\n",
        "vis._send({'data': [trace1, trace2, trace3, trace4, trace5, trace6, trace7], 'layout': layout, 'win': 'XYCURVE','update':'append'})"
      ],
      "execution_count": 33,
      "outputs": [
        {
          "output_type": "execute_result",
          "data": {
            "text/plain": [
              "'XYCURVE'"
            ]
          },
          "metadata": {
            "tags": []
          },
          "execution_count": 33
        }
      ]
    },
    {
      "metadata": {
        "id": "zrzfPdnyujIf",
        "colab_type": "text"
      },
      "cell_type": "markdown",
      "source": [
        "***OUTPUT***\n",
        "\n",
        "<img src=\"https://github.com/ninjakx/visualisation-visdom/raw/master/Images/line_trace.PNG\" width=\"400\" height=\"400\">\n",
        "\n"
      ]
    },
    {
      "metadata": {
        "id": "r0Cqfv5wvcCl",
        "colab_type": "text"
      },
      "cell_type": "markdown",
      "source": [
        "## **LINE WITHOUT CUSTOM SETTING**"
      ]
    },
    {
      "metadata": {
        "id": "pbEncG43-3Wh",
        "colab_type": "code",
        "colab": {}
      },
      "cell_type": "code",
      "source": [
        "vis_line = vis.line(X = np.array([1,2,3]), Y = np.array([[1,1,1],[2,2,4],[3,4,7]]), win=\"my_line\")\n",
        "#vis.updateTrace(X = np.array([[4,4,4]]), Y = np.array([[5, 6, 7]]), win=\"mywin\")"
      ],
      "execution_count": 0,
      "outputs": []
    },
    {
      "metadata": {
        "id": "t6Nj4YyFvmlk",
        "colab_type": "text"
      },
      "cell_type": "markdown",
      "source": [
        "**OUTPUT**\n",
        "\n",
        "![Line](https://github.com/ninjakx/visualisation-visdom/raw/master/Images/my_line.PNG)\n"
      ]
    },
    {
      "metadata": {
        "id": "47qhmjJ-vla6",
        "colab_type": "text"
      },
      "cell_type": "markdown",
      "source": [
        "## **COMBINED PLOT**"
      ]
    },
    {
      "metadata": {
        "id": "LpbLlPisUpwk",
        "colab_type": "code",
        "colab": {}
      },
      "cell_type": "code",
      "source": [
        "def plot_combine(name,d):\n",
        "        #index = {}\n",
        "        #multiple plots in one single graph\n",
        "        X = []\n",
        "        Y = []\n",
        "        legend = []\n",
        "        for k, v in sorted(d.items()):\n",
        "            Y.append(v[0])\n",
        "            X.append(v[1])\n",
        "            legend.append(k)\n",
        "        Y = np.array([Y])\n",
        "        X = np.array([X])\n",
        "\n",
        "        vis.line(\n",
        "            Y=Y, \n",
        "            X=X,\n",
        "            win=name,\n",
        "            env= 'main',\n",
        "            opts=dict(\n",
        "                title=name,\n",
        "                legend=legend\n",
        "            ),\n",
        "            update= 'append',\n",
        "        )\n",
        "        \n"
      ],
      "execution_count": 0,
      "outputs": []
    },
    {
      "metadata": {
        "id": "RIT4NakAzR8n",
        "colab_type": "code",
        "colab": {}
      },
      "cell_type": "code",
      "source": [
        "for i in [1,2,3,4,5,6]:\n",
        "  d = {'class-1': [i+1,i*3] ,'class-2': [i*4,i+2]}\n",
        "  plot_combine(\"combined_Lines\",d)  "
      ],
      "execution_count": 0,
      "outputs": []
    },
    {
      "metadata": {
        "id": "0Sila9bywrMT",
        "colab_type": "text"
      },
      "cell_type": "markdown",
      "source": [
        "***OUTPUT*** \n",
        "\n",
        "<img src=\"https://github.com/ninjakx/visualisation-visdom/raw/master/Images/combined_lines.PNG\" width=\"400\" height=\"400\">\n"
      ]
    },
    {
      "metadata": {
        "id": "Zr-8Xedcyt-8",
        "colab_type": "text"
      },
      "cell_type": "markdown",
      "source": [
        "## **CUSTOM COMBINED PLOT**"
      ]
    },
    {
      "metadata": {
        "id": "n5xJGVtaG7t5",
        "colab_type": "code",
        "colab": {}
      },
      "cell_type": "code",
      "source": [
        "def combined_plot():\n",
        "  x = [0,1,2,3,4]\n",
        "  data = [{\n",
        "                'x': x,\n",
        "                'y': list(map(lambda i: i, x)),\n",
        "                'marker':{\n",
        "                        'color': 'red',\n",
        "                        'symbol': 104,\n",
        "                        'size': \"10\"},\n",
        "                'mode':\"markers+lines\",\n",
        "                \n",
        "                'name':'class-1',\n",
        "                'type':'line',\n",
        "},{\n",
        "                'x': x,\n",
        "                'y': list(map(lambda i: i*2, x)),\n",
        "                'marker':{\n",
        "                        'color': 'green',\n",
        "                        'symbol': 104,\n",
        "                        'size': \"10\"},\n",
        "                'mode':\"markers+lines\",\n",
        "                'name':'class-2',\n",
        "                'type':'line',\n",
        "  },\n",
        "{\n",
        "                'x': x,\n",
        "                'y': list(map(lambda i: i*3, x)),\n",
        "                'marker':{\n",
        "                        'color': 'blue',\n",
        "                        'symbol': 104,\n",
        "                        'size': \"10\"},\n",
        "                'mode':\"markers+lines\",\n",
        "                'name':'class-3',\n",
        "                'type':'line',\n",
        "  }\n",
        "     ,\n",
        "  {\n",
        "                'x': x,\n",
        "                'y': list(map(lambda i: i*4, x)),\n",
        "                'marker':{\n",
        "                        'color': 'green',\n",
        "                        'symbol': 104,\n",
        "                        'size': \"10\"},\n",
        "                'mode':\"markers+lines\",\n",
        "                'name':'class-3',\n",
        "                'type':'line',\n",
        "  }\n",
        "  \n",
        "  ]\n",
        "\n",
        "  win = 'custom_multiple_lines'\n",
        "  env = 'main'\n",
        "\n",
        "  layout= {\n",
        "                'title':\"combined_plot\",\n",
        "                'xaxis':{'title':'x1'},\n",
        "                'yaxis':{'title':'x2'}\n",
        "  }\n",
        "  opts = {}\n",
        "\n",
        "  vis._send({'data': data, 'win': win, 'eid': env, 'layout': layout, 'opts': opts})\n",
        "  "
      ],
      "execution_count": 0,
      "outputs": []
    },
    {
      "metadata": {
        "id": "KF58dcY1IjLE",
        "colab_type": "code",
        "colab": {}
      },
      "cell_type": "code",
      "source": [
        "combined_plot()"
      ],
      "execution_count": 0,
      "outputs": []
    },
    {
      "metadata": {
        "id": "ZbOazlDWy2Qp",
        "colab_type": "text"
      },
      "cell_type": "markdown",
      "source": [
        "***OUTPUT***\n",
        "\n",
        "<img src=\"https://github.com/ninjakx/visualisation-visdom/raw/master/Images/combined_plot_custom.PNG\" width=\"400\" height=\"400\">\n"
      ]
    },
    {
      "metadata": {
        "id": "AUp4oHeSbCAF",
        "colab_type": "code",
        "colab": {
          "base_uri": "https://localhost:8080/",
          "height": 34
        },
        "outputId": "ba9b826d-68c2-4cca-b7ab-eef6633a52f9"
      },
      "cell_type": "code",
      "source": [
        "data = [{\n",
        "                'x':[7,8,9],\n",
        "                'y':[4,5,6],\n",
        "                'marker':{\n",
        "                        'color': 'red',\n",
        "                        'symbol': 104,\n",
        "                        'size': \"10\"},\n",
        "                'mode':\"markers+lines\",\n",
        "                'text':[\"one\",\"two\",\"three\"],\n",
        "                'name':'1st Trace',\n",
        "                'type':'line',\n",
        "                'update':'append',\n",
        "},{\n",
        "                'x': [11,12,13],\n",
        "                'y': [4,5,6],\n",
        "                'type': 'scatter',\n",
        "                'mode': 'markers',\n",
        "                'update':'append',\n",
        "}]\n",
        "\n",
        "win = 'plot'\n",
        "env = 'main'\n",
        "\n",
        "layout= {\n",
        "                'title':\"combined_plot\",\n",
        "                'xaxis':{'title':'x1'},\n",
        "                'yaxis':{'title':'x2'}\n",
        "}\n",
        "opts = {}\n",
        "\n",
        "vis._send({'data': data, 'win': win, 'eid': env, 'layout': layout, 'opts': opts})\n"
      ],
      "execution_count": 56,
      "outputs": [
        {
          "output_type": "execute_result",
          "data": {
            "text/plain": [
              "'plot'"
            ]
          },
          "metadata": {
            "tags": []
          },
          "execution_count": 56
        }
      ]
    },
    {
      "metadata": {
        "id": "4MEAqOJOzXyd",
        "colab_type": "text"
      },
      "cell_type": "markdown",
      "source": [
        "## **MATPLOTLIB PLOT**"
      ]
    },
    {
      "metadata": {
        "id": "dNCsfZFlbB5q",
        "colab_type": "code",
        "colab": {
          "base_uri": "https://localhost:8080/",
          "height": 380
        },
        "outputId": "47c8abf3-34fc-4730-d683-736fb099232b"
      },
      "cell_type": "code",
      "source": [
        "import matplotlib.pyplot as plt\n",
        "plt.plot([1, 7, 2, 4])\n",
        "plt.title(\"line\")\n",
        "plt.ylabel('some numbers')\n",
        "vis.matplot(plt)"
      ],
      "execution_count": 165,
      "outputs": [
        {
          "output_type": "execute_result",
          "data": {
            "text/plain": [
              "'window_36980d25a1a792'"
            ]
          },
          "metadata": {
            "tags": []
          },
          "execution_count": 165
        },
        {
          "output_type": "display_data",
          "data": {
            "image/png": "[encoded data removed]",
            "text/plain": [
              "<matplotlib.figure.Figure at 0x7f332bd26f60>"
            ]
          },
          "metadata": {
            "tags": []
          }
        }
      ]
    },
    {
      "metadata": {
        "id": "QtubbFSLzeGm",
        "colab_type": "text"
      },
      "cell_type": "markdown",
      "source": [
        "## **PLOT MULTIPLE IMAGES**"
      ]
    },
    {
      "metadata": {
        "id": "P2omJWgzetAt",
        "colab_type": "code",
        "colab": {
          "base_uri": "https://localhost:8080/",
          "height": 34
        },
        "outputId": "e761e5bc-d9af-455a-9ed1-395efb0bcbbb"
      },
      "cell_type": "code",
      "source": [
        "  imgs =  np.random.random((4, 3, 128, 128))*255\n",
        "  vis.images(\n",
        "        imgs,\n",
        "        opts=dict(title='Random Images', caption='How random.')\n",
        "    )"
      ],
      "execution_count": 178,
      "outputs": [
        {
          "output_type": "execute_result",
          "data": {
            "text/plain": [
              "'window_369812249490e4'"
            ]
          },
          "metadata": {
            "tags": []
          },
          "execution_count": 178
        }
      ]
    },
    {
      "metadata": {
        "id": "TLMKAgZCzhoG",
        "colab_type": "text"
      },
      "cell_type": "markdown",
      "source": [
        "***OUTPUT***\n",
        "\n",
        "![Imgs](https://github.com/ninjakx/visualisation-visdom/raw/master/Images/imgs.PNG)\n"
      ]
    },
    {
      "metadata": {
        "id": "BRffqs-UzvTa",
        "colab_type": "text"
      },
      "cell_type": "markdown",
      "source": [
        "## **PLOT PIE CHART **"
      ]
    },
    {
      "metadata": {
        "id": "m2suy7tvn24z",
        "colab_type": "code",
        "colab": {
          "base_uri": "https://localhost:8080/",
          "height": 34
        },
        "outputId": "323f8a94-5454-4141-f0c2-f0049101922d"
      },
      "cell_type": "code",
      "source": [
        "\n",
        "# pie chart\n",
        "X = np.asarray([10, 22, 13, 52])\n",
        "vis.pie(\n",
        "        X=X,\n",
        "        opts=dict(legend=['A','B','C','D'])\n",
        "    )"
      ],
      "execution_count": 187,
      "outputs": [
        {
          "output_type": "execute_result",
          "data": {
            "text/plain": [
              "'window_369813fa98b386'"
            ]
          },
          "metadata": {
            "tags": []
          },
          "execution_count": 187
        }
      ]
    },
    {
      "metadata": {
        "id": "K7MXogRGz3dO",
        "colab_type": "text"
      },
      "cell_type": "markdown",
      "source": [
        "***OUTPUT***\n",
        "\n",
        "![Pie Chart](https://github.com/ninjakx/visualisation-visdom/raw/master/Images/pie_chart.PNG)\n"
      ]
    },
    {
      "metadata": {
        "id": "50fNXJSB0F-d",
        "colab_type": "text"
      },
      "cell_type": "markdown",
      "source": [
        "## **PLOT SCATTER PLOT**"
      ]
    },
    {
      "metadata": {
        "id": "OoVtojollZ9J",
        "colab_type": "code",
        "colab": {
          "base_uri": "https://localhost:8080/",
          "height": 34
        },
        "outputId": "e4a40882-93f3-4e4c-e5fc-18f2c00aa56b"
      },
      "cell_type": "code",
      "source": [
        "# 2D scatterplot with custom intensities (red channel)\n",
        "vis.scatter(\n",
        "        X=np.random.rand(255, 2),\n",
        "        Y=(np.random.rand(255) + 1.5).astype(int),\n",
        "        opts=dict(\n",
        "            markersize=10,\n",
        "            markercolor=np.random.randint(0, 255, (2, 3,)),\n",
        "        ),\n",
        "    )"
      ],
      "execution_count": 186,
      "outputs": [
        {
          "output_type": "execute_result",
          "data": {
            "text/plain": [
              "'window_36981367f8dc72'"
            ]
          },
          "metadata": {
            "tags": []
          },
          "execution_count": 186
        }
      ]
    },
    {
      "metadata": {
        "id": "cK_fMRcz0MYW",
        "colab_type": "text"
      },
      "cell_type": "markdown",
      "source": [
        "***OUTPUT***\n",
        "\n",
        "![Scatter Plots](https://github.com/ninjakx/visualisation-visdom/raw/master/Images/2D_scatter_plot.PNG)\n"
      ]
    },
    {
      "metadata": {
        "id": "6glLtoxL0c_Q",
        "colab_type": "text"
      },
      "cell_type": "markdown",
      "source": [
        "## **PLOT HEATMAPS**"
      ]
    },
    {
      "metadata": {
        "id": "GBLDZtR50905",
        "colab_type": "text"
      },
      "cell_type": "markdown",
      "source": [
        "**WITH LOWER DIAGONAL AS CORRECTLY CLASSIFIED CLASSES**"
      ]
    },
    {
      "metadata": {
        "id": "8S9vXXqwyJRv",
        "colab_type": "code",
        "colab": {
          "base_uri": "https://localhost:8080/",
          "height": 34
        },
        "outputId": "1ea78ff3-c34b-465e-c74f-62c164c75c0d"
      },
      "cell_type": "code",
      "source": [
        "import torchnet as tnt\n",
        "import torch \n",
        "confusion_matrix = tnt.meter.ConfusionMeter(3) #I have 2 classes here\n",
        "y_actu = np.array([2, 2, 1, 2, 0, 2, 1])\n",
        "y_pred = np.array([2, 2, 1, 2, 0, 2, 1])\n",
        "confusion_matrix.add((torch.from_numpy(y_actu)),(torch.from_numpy(y_pred)))\n",
        "print(confusion_matrix.value)"
      ],
      "execution_count": 19,
      "outputs": [
        {
          "output_type": "stream",
          "text": [
            "<bound method ConfusionMeter.value of <torchnet.meter.confusionmeter.ConfusionMeter object at 0x7f22997587f0>>\n"
          ],
          "name": "stdout"
        }
      ]
    },
    {
      "metadata": {
        "id": "rKq5s_9lbBvy",
        "colab_type": "code",
        "colab": {
          "base_uri": "https://localhost:8080/",
          "height": 34
        },
        "outputId": "0212e539-8ec0-4e36-91c1-7474c619c04a"
      },
      "cell_type": "code",
      "source": [
        "vis.heatmap(\n",
        "        X=confusion_matrix.value(),\n",
        "        opts=dict(\n",
        "            columnnames=['a', 'b', 'c'],\n",
        "            rownames=['a', 'b', 'c'],\n",
        "            colormap='Electric',\n",
        "        )\n",
        "    )"
      ],
      "execution_count": 20,
      "outputs": [
        {
          "output_type": "execute_result",
          "data": {
            "text/plain": [
              "'window_3698a8b71e8c94'"
            ]
          },
          "metadata": {
            "tags": []
          },
          "execution_count": 20
        }
      ]
    },
    {
      "metadata": {
        "id": "bM69mGLC0jbZ",
        "colab_type": "text"
      },
      "cell_type": "markdown",
      "source": [
        "***OUTPUT***\n",
        "\n",
        "<img src=\"https://github.com/ninjakx/visualisation-visdom/raw/master/Images/heatmap.png\" width=\"300\" height=\"300\">\n"
      ]
    },
    {
      "metadata": {
        "id": "Xf5w7_3n1JqS",
        "colab_type": "text"
      },
      "cell_type": "markdown",
      "source": [
        "***WITH UPPER DIAGONAL AS CORRECTLY CLASSIFIED CLASSES***"
      ]
    },
    {
      "metadata": {
        "id": "7ZmEHBPnlTSP",
        "colab_type": "code",
        "colab": {
          "base_uri": "https://localhost:8080/",
          "height": 34
        },
        "outputId": "ed90112b-aa55-4092-cb0a-565eb3a50ba2"
      },
      "cell_type": "code",
      "source": [
        "vis.heatmap(\n",
        "        X=np.flipud(confusion_matrix.value()),\n",
        "        opts=dict(\n",
        "            columnnames=['a', 'b', 'c'],\n",
        "            rownames=['c', 'b', 'a'],\n",
        "            colormap='Electric',\n",
        "        )\n",
        "    )"
      ],
      "execution_count": 57,
      "outputs": [
        {
          "output_type": "execute_result",
          "data": {
            "text/plain": [
              "'window_3698b84a2230f4'"
            ]
          },
          "metadata": {
            "tags": []
          },
          "execution_count": 57
        }
      ]
    },
    {
      "metadata": {
        "id": "MrkWAgXQ1NV_",
        "colab_type": "text"
      },
      "cell_type": "markdown",
      "source": [
        "***OUTPUT***\n",
        "\n",
        "<img src=\"https://github.com/ninjakx/visualisation-visdom/raw/master/Images/flip_heatmap.PNG\" width=\"300\" height=\"300\">\n"
      ]
    }
  ]
}